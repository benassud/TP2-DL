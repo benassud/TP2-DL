{
  "nbformat": 4,
  "nbformat_minor": 0,
  "metadata": {
    "colab": {
      "provenance": [],
      "authorship_tag": "ABX9TyMfc4E1FrnkQx1KAwkJXThp",
      "include_colab_link": true
    },
    "kernelspec": {
      "name": "python3",
      "display_name": "Python 3"
    },
    "language_info": {
      "name": "python"
    }
  },
  "cells": [
    {
      "cell_type": "markdown",
      "metadata": {
        "id": "view-in-github",
        "colab_type": "text"
      },
      "source": [
        "<a href=\"https://colab.research.google.com/github/benassud/TP2-DL/blob/main/main.ipynb\" target=\"_parent\"><img src=\"https://colab.research.google.com/assets/colab-badge.svg\" alt=\"Open In Colab\"/></a>"
      ]
    },
    {
      "cell_type": "code",
      "execution_count": 7,
      "metadata": {
        "colab": {
          "base_uri": "https://localhost:8080/"
        },
        "id": "PqFLeBFM68f9",
        "outputId": "cfd75104-b086-44b9-8366-fd84c7f5cc76"
      },
      "outputs": [
        {
          "output_type": "stream",
          "name": "stdout",
          "text": [
            "fatal: destination path 'TP2-DL' already exists and is not an empty directory.\n"
          ]
        }
      ],
      "source": [
        "import os \n",
        "os.chdir('/content/')\n",
        "!git clone https://github.com/benassud/TP2-DL.git"
      ]
    },
    {
      "cell_type": "code",
      "source": [
        "import os \n",
        "os.chdir('/content/TP2-DL/')"
      ],
      "metadata": {
        "id": "enR_5ko57L0b"
      },
      "execution_count": 8,
      "outputs": []
    },
    {
      "cell_type": "code",
      "source": [
        "!rm -r TP2-DL"
      ],
      "metadata": {
        "id": "uzBDHMif7oBN"
      },
      "execution_count": 9,
      "outputs": []
    },
    {
      "cell_type": "code",
      "source": [
        "!mkdir Replay"
      ],
      "metadata": {
        "id": "hrg-bzdI7yoK"
      },
      "execution_count": 10,
      "outputs": []
    },
    {
      "cell_type": "code",
      "source": [],
      "metadata": {
        "id": "1fmuJcOu8hYv"
      },
      "execution_count": null,
      "outputs": []
    }
  ]
}